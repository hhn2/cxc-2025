{
 "cells": [
  {
   "cell_type": "code",
   "execution_count": 15,
   "metadata": {},
   "outputs": [
    {
     "name": "stdout",
     "output_type": "stream",
     "text": [
      "Defaulting to user installation because normal site-packages is not writeable\n",
      "Requirement already satisfied: pandas in /Users/junkyunglee/Library/Python/3.9/lib/python/site-packages (2.2.2)\n",
      "Requirement already satisfied: numpy>=1.22.4 in /Users/junkyunglee/Library/Python/3.9/lib/python/site-packages (from pandas) (2.0.1)\n",
      "Requirement already satisfied: pytz>=2020.1 in /Users/junkyunglee/Library/Python/3.9/lib/python/site-packages (from pandas) (2024.1)\n",
      "Requirement already satisfied: python-dateutil>=2.8.2 in /Users/junkyunglee/Library/Python/3.9/lib/python/site-packages (from pandas) (2.9.0.post0)\n",
      "Requirement already satisfied: tzdata>=2022.7 in /Users/junkyunglee/Library/Python/3.9/lib/python/site-packages (from pandas) (2024.1)\n",
      "Requirement already satisfied: six>=1.5 in /Library/Developer/CommandLineTools/Library/Frameworks/Python3.framework/Versions/3.9/lib/python3.9/site-packages (from python-dateutil>=2.8.2->pandas) (1.15.0)\n",
      "\u001b[33mWARNING: You are using pip version 21.2.4; however, version 25.0.1 is available.\n",
      "You should consider upgrading via the '/Library/Developer/CommandLineTools/usr/bin/python3 -m pip install --upgrade pip' command.\u001b[0m\n",
      "Note: you may need to restart the kernel to use updated packages.\n",
      "Defaulting to user installation because normal site-packages is not writeable\n",
      "Requirement already satisfied: prophet in /Users/junkyunglee/Library/Python/3.9/lib/python/site-packages (1.1.6)\n",
      "Requirement already satisfied: tqdm>=4.36.1 in /Users/junkyunglee/Library/Python/3.9/lib/python/site-packages (from prophet) (4.67.1)\n",
      "Requirement already satisfied: holidays<1,>=0.25 in /Users/junkyunglee/Library/Python/3.9/lib/python/site-packages (from prophet) (0.67)\n",
      "Requirement already satisfied: numpy>=1.15.4 in /Users/junkyunglee/Library/Python/3.9/lib/python/site-packages (from prophet) (2.0.1)\n",
      "Requirement already satisfied: matplotlib>=2.0.0 in /Users/junkyunglee/Library/Python/3.9/lib/python/site-packages (from prophet) (3.9.2)\n",
      "Requirement already satisfied: pandas>=1.0.4 in /Users/junkyunglee/Library/Python/3.9/lib/python/site-packages (from prophet) (2.2.2)\n",
      "Requirement already satisfied: cmdstanpy>=1.0.4 in /Users/junkyunglee/Library/Python/3.9/lib/python/site-packages (from prophet) (1.2.5)\n",
      "Requirement already satisfied: importlib-resources in /Users/junkyunglee/Library/Python/3.9/lib/python/site-packages (from prophet) (6.4.0)\n",
      "Requirement already satisfied: stanio<2.0.0,>=0.4.0 in /Users/junkyunglee/Library/Python/3.9/lib/python/site-packages (from cmdstanpy>=1.0.4->prophet) (0.5.1)\n",
      "Requirement already satisfied: python-dateutil in /Users/junkyunglee/Library/Python/3.9/lib/python/site-packages (from holidays<1,>=0.25->prophet) (2.9.0.post0)\n",
      "Requirement already satisfied: fonttools>=4.22.0 in /Users/junkyunglee/Library/Python/3.9/lib/python/site-packages (from matplotlib>=2.0.0->prophet) (4.53.1)\n",
      "Requirement already satisfied: pyparsing>=2.3.1 in /Users/junkyunglee/Library/Python/3.9/lib/python/site-packages (from matplotlib>=2.0.0->prophet) (3.1.2)\n",
      "Requirement already satisfied: packaging>=20.0 in /Users/junkyunglee/Library/Python/3.9/lib/python/site-packages (from matplotlib>=2.0.0->prophet) (24.1)\n",
      "Requirement already satisfied: contourpy>=1.0.1 in /Users/junkyunglee/Library/Python/3.9/lib/python/site-packages (from matplotlib>=2.0.0->prophet) (1.2.1)\n",
      "Requirement already satisfied: pillow>=8 in /Users/junkyunglee/Library/Python/3.9/lib/python/site-packages (from matplotlib>=2.0.0->prophet) (10.4.0)\n",
      "Requirement already satisfied: kiwisolver>=1.3.1 in /Users/junkyunglee/Library/Python/3.9/lib/python/site-packages (from matplotlib>=2.0.0->prophet) (1.4.5)\n",
      "Requirement already satisfied: cycler>=0.10 in /Users/junkyunglee/Library/Python/3.9/lib/python/site-packages (from matplotlib>=2.0.0->prophet) (0.12.1)\n",
      "Requirement already satisfied: zipp>=3.1.0 in /Users/junkyunglee/Library/Python/3.9/lib/python/site-packages (from importlib-resources->prophet) (3.20.2)\n",
      "Requirement already satisfied: tzdata>=2022.7 in /Users/junkyunglee/Library/Python/3.9/lib/python/site-packages (from pandas>=1.0.4->prophet) (2024.1)\n",
      "Requirement already satisfied: pytz>=2020.1 in /Users/junkyunglee/Library/Python/3.9/lib/python/site-packages (from pandas>=1.0.4->prophet) (2024.1)\n",
      "Requirement already satisfied: six>=1.5 in /Library/Developer/CommandLineTools/Library/Frameworks/Python3.framework/Versions/3.9/lib/python3.9/site-packages (from python-dateutil->holidays<1,>=0.25->prophet) (1.15.0)\n",
      "\u001b[33mWARNING: You are using pip version 21.2.4; however, version 25.0.1 is available.\n",
      "You should consider upgrading via the '/Library/Developer/CommandLineTools/usr/bin/python3 -m pip install --upgrade pip' command.\u001b[0m\n",
      "Note: you may need to restart the kernel to use updated packages.\n"
     ]
    }
   ],
   "source": [
    "%pip install pandas\n",
    "%pip install prophet\n"
   ]
  },
  {
   "cell_type": "code",
   "execution_count": 16,
   "metadata": {},
   "outputs": [],
   "source": [
    "from prophet import Prophet\n",
    "import pandas as pd"
   ]
  },
  {
   "cell_type": "code",
   "execution_count": 18,
   "metadata": {},
   "outputs": [],
   "source": [
    "df_bills = pd.read_csv('data/bills.csv')\n",
    "df_venues = pd.read_csv('data/venues.csv')"
   ]
  },
  {
   "cell_type": "markdown",
   "metadata": {},
   "source": [
    "# Data Preprocessing"
   ]
  },
  {
   "cell_type": "code",
   "execution_count": null,
   "metadata": {},
   "outputs": [],
   "source": []
  },
  {
   "cell_type": "markdown",
   "metadata": {},
   "source": [
    "# Machine Learning Model"
   ]
  },
  {
   "cell_type": "code",
   "execution_count": null,
   "metadata": {},
   "outputs": [],
   "source": []
  }
 ],
 "metadata": {
  "kernelspec": {
   "display_name": "Python 3",
   "language": "python",
   "name": "python3"
  },
  "language_info": {
   "codemirror_mode": {
    "name": "ipython",
    "version": 3
   },
   "file_extension": ".py",
   "mimetype": "text/x-python",
   "name": "python",
   "nbconvert_exporter": "python",
   "pygments_lexer": "ipython3",
   "version": "3.9.6"
  }
 },
 "nbformat": 4,
 "nbformat_minor": 2
}
