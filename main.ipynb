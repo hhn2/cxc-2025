{
 "cells": [
  {
   "cell_type": "code",
   "execution_count": 74,
   "metadata": {},
   "outputs": [
    {
     "name": "stdout",
     "output_type": "stream",
     "text": [
      "Defaulting to user installation because normal site-packages is not writeable\n",
      "Requirement already satisfied: pandas in /Users/junkyunglee/Library/Python/3.9/lib/python/site-packages (2.2.2)\n",
      "Requirement already satisfied: pytz>=2020.1 in /Users/junkyunglee/Library/Python/3.9/lib/python/site-packages (from pandas) (2024.1)\n",
      "Requirement already satisfied: numpy>=1.22.4 in /Users/junkyunglee/Library/Python/3.9/lib/python/site-packages (from pandas) (2.0.1)\n",
      "Requirement already satisfied: python-dateutil>=2.8.2 in /Users/junkyunglee/Library/Python/3.9/lib/python/site-packages (from pandas) (2.9.0.post0)\n",
      "Requirement already satisfied: tzdata>=2022.7 in /Users/junkyunglee/Library/Python/3.9/lib/python/site-packages (from pandas) (2024.1)\n",
      "Requirement already satisfied: six>=1.5 in /Library/Developer/CommandLineTools/Library/Frameworks/Python3.framework/Versions/3.9/lib/python3.9/site-packages (from python-dateutil>=2.8.2->pandas) (1.15.0)\n",
      "\u001b[33mWARNING: You are using pip version 21.2.4; however, version 25.0.1 is available.\n",
      "You should consider upgrading via the '/Library/Developer/CommandLineTools/usr/bin/python3 -m pip install --upgrade pip' command.\u001b[0m\n",
      "Note: you may need to restart the kernel to use updated packages.\n",
      "Defaulting to user installation because normal site-packages is not writeable\n",
      "Requirement already satisfied: prophet in /Users/junkyunglee/Library/Python/3.9/lib/python/site-packages (1.1.6)\n",
      "Requirement already satisfied: pandas>=1.0.4 in /Users/junkyunglee/Library/Python/3.9/lib/python/site-packages (from prophet) (2.2.2)\n",
      "Requirement already satisfied: cmdstanpy>=1.0.4 in /Users/junkyunglee/Library/Python/3.9/lib/python/site-packages (from prophet) (1.2.5)\n",
      "Requirement already satisfied: tqdm>=4.36.1 in /Users/junkyunglee/Library/Python/3.9/lib/python/site-packages (from prophet) (4.67.1)\n",
      "Requirement already satisfied: holidays<1,>=0.25 in /Users/junkyunglee/Library/Python/3.9/lib/python/site-packages (from prophet) (0.67)\n",
      "Requirement already satisfied: matplotlib>=2.0.0 in /Users/junkyunglee/Library/Python/3.9/lib/python/site-packages (from prophet) (3.9.2)\n",
      "Requirement already satisfied: numpy>=1.15.4 in /Users/junkyunglee/Library/Python/3.9/lib/python/site-packages (from prophet) (2.0.1)\n",
      "Requirement already satisfied: importlib-resources in /Users/junkyunglee/Library/Python/3.9/lib/python/site-packages (from prophet) (6.4.0)\n",
      "Requirement already satisfied: stanio<2.0.0,>=0.4.0 in /Users/junkyunglee/Library/Python/3.9/lib/python/site-packages (from cmdstanpy>=1.0.4->prophet) (0.5.1)\n",
      "Requirement already satisfied: python-dateutil in /Users/junkyunglee/Library/Python/3.9/lib/python/site-packages (from holidays<1,>=0.25->prophet) (2.9.0.post0)\n",
      "Requirement already satisfied: fonttools>=4.22.0 in /Users/junkyunglee/Library/Python/3.9/lib/python/site-packages (from matplotlib>=2.0.0->prophet) (4.53.1)\n",
      "Requirement already satisfied: pillow>=8 in /Users/junkyunglee/Library/Python/3.9/lib/python/site-packages (from matplotlib>=2.0.0->prophet) (10.4.0)\n",
      "Requirement already satisfied: cycler>=0.10 in /Users/junkyunglee/Library/Python/3.9/lib/python/site-packages (from matplotlib>=2.0.0->prophet) (0.12.1)\n",
      "Requirement already satisfied: kiwisolver>=1.3.1 in /Users/junkyunglee/Library/Python/3.9/lib/python/site-packages (from matplotlib>=2.0.0->prophet) (1.4.5)\n",
      "Requirement already satisfied: contourpy>=1.0.1 in /Users/junkyunglee/Library/Python/3.9/lib/python/site-packages (from matplotlib>=2.0.0->prophet) (1.2.1)\n",
      "Requirement already satisfied: packaging>=20.0 in /Users/junkyunglee/Library/Python/3.9/lib/python/site-packages (from matplotlib>=2.0.0->prophet) (24.1)\n",
      "Requirement already satisfied: pyparsing>=2.3.1 in /Users/junkyunglee/Library/Python/3.9/lib/python/site-packages (from matplotlib>=2.0.0->prophet) (3.1.2)\n",
      "Requirement already satisfied: zipp>=3.1.0 in /Users/junkyunglee/Library/Python/3.9/lib/python/site-packages (from importlib-resources->prophet) (3.20.2)\n",
      "Requirement already satisfied: pytz>=2020.1 in /Users/junkyunglee/Library/Python/3.9/lib/python/site-packages (from pandas>=1.0.4->prophet) (2024.1)\n",
      "Requirement already satisfied: tzdata>=2022.7 in /Users/junkyunglee/Library/Python/3.9/lib/python/site-packages (from pandas>=1.0.4->prophet) (2024.1)\n",
      "Requirement already satisfied: six>=1.5 in /Library/Developer/CommandLineTools/Library/Frameworks/Python3.framework/Versions/3.9/lib/python3.9/site-packages (from python-dateutil->holidays<1,>=0.25->prophet) (1.15.0)\n",
      "\u001b[33mWARNING: You are using pip version 21.2.4; however, version 25.0.1 is available.\n",
      "You should consider upgrading via the '/Library/Developer/CommandLineTools/usr/bin/python3 -m pip install --upgrade pip' command.\u001b[0m\n",
      "Note: you may need to restart the kernel to use updated packages.\n"
     ]
    }
   ],
   "source": [
    "%pip install pandas\n",
    "%pip install prophet\n"
   ]
  },
  {
   "cell_type": "code",
   "execution_count": 75,
   "metadata": {},
   "outputs": [],
   "source": [
    "from prophet import Prophet\n",
    "import pandas as pd"
   ]
  },
  {
   "cell_type": "markdown",
   "metadata": {},
   "source": [
    "# Data Preparation"
   ]
  },
  {
   "cell_type": "code",
   "execution_count": 76,
   "metadata": {},
   "outputs": [],
   "source": [
    "df_bills = pd.read_csv('data/bills.csv')\n",
    "df_venues = pd.read_csv('data/venues.csv')"
   ]
  },
  {
   "cell_type": "code",
   "execution_count": 86,
   "metadata": {},
   "outputs": [
    {
     "data": {
      "text/plain": [
       "Index(['bill_paid_at_local', 'bill_total_billed',\n",
       "       'bill_total_discount_item_level', 'bill_total_gratuity',\n",
       "       'bill_total_net', 'bill_total_tax', 'bill_total_voided', 'bill_uuid',\n",
       "       'business_date', 'order_duration_seconds', 'order_seated_at_local',\n",
       "       'order_closed_at_local', 'order_take_out_type_label', 'order_uuid',\n",
       "       'payment_amount', 'payment_count', 'payment_total_tip',\n",
       "       'sales_revenue_with_tax', 'venue_xref_id', 'waiter_uuid'],\n",
       "      dtype='object')"
      ]
     },
     "execution_count": 86,
     "metadata": {},
     "output_type": "execute_result"
    }
   ],
   "source": [
    "df_bills.columns"
   ]
  },
  {
   "cell_type": "code",
   "execution_count": 87,
   "metadata": {},
   "outputs": [
    {
     "data": {
      "text/plain": [
       "Index(['venue_xref_id', 'concept', 'city', 'country'], dtype='object')"
      ]
     },
     "execution_count": 87,
     "metadata": {},
     "output_type": "execute_result"
    }
   ],
   "source": [
    "df_venues.columns"
   ]
  },
  {
   "cell_type": "code",
   "execution_count": 78,
   "metadata": {},
   "outputs": [
    {
     "data": {
      "text/html": [
       "<div>\n",
       "<style scoped>\n",
       "    .dataframe tbody tr th:only-of-type {\n",
       "        vertical-align: middle;\n",
       "    }\n",
       "\n",
       "    .dataframe tbody tr th {\n",
       "        vertical-align: top;\n",
       "    }\n",
       "\n",
       "    .dataframe thead th {\n",
       "        text-align: right;\n",
       "    }\n",
       "</style>\n",
       "<table border=\"1\" class=\"dataframe\">\n",
       "  <thead>\n",
       "    <tr style=\"text-align: right;\">\n",
       "      <th></th>\n",
       "      <th>venue_xref_id</th>\n",
       "      <th>concept</th>\n",
       "      <th>city</th>\n",
       "      <th>country</th>\n",
       "    </tr>\n",
       "  </thead>\n",
       "  <tbody>\n",
       "    <tr>\n",
       "      <th>0</th>\n",
       "      <td>ea74268311cfcc47d2b4c38ef08b9dab0117226a9a99a9...</td>\n",
       "      <td>FAST_FOOD</td>\n",
       "      <td>Albuquerque</td>\n",
       "      <td>US</td>\n",
       "    </tr>\n",
       "    <tr>\n",
       "      <th>1</th>\n",
       "      <td>e7cec41c46a9706ba1a702b368be5431913b6dc9c9da49...</td>\n",
       "      <td>FAMILY_DINING</td>\n",
       "      <td>Brooklyn</td>\n",
       "      <td>US</td>\n",
       "    </tr>\n",
       "    <tr>\n",
       "      <th>2</th>\n",
       "      <td>e63e79791883b0c4ac71d41eaee727932c13d6a4ec8f78...</td>\n",
       "      <td>FAST_CASUAL</td>\n",
       "      <td>Windsor</td>\n",
       "      <td>CA</td>\n",
       "    </tr>\n",
       "    <tr>\n",
       "      <th>3</th>\n",
       "      <td>c100388c9328b30b6bdfbea43f113d367ae9d32b03e84b...</td>\n",
       "      <td>BAR</td>\n",
       "      <td>Burnaby</td>\n",
       "      <td>CA</td>\n",
       "    </tr>\n",
       "    <tr>\n",
       "      <th>4</th>\n",
       "      <td>a819ee7f83f27dd3d7f44515e22aca3c26e6704ddd2a9b...</td>\n",
       "      <td>FAMILY_DINING</td>\n",
       "      <td>Tisdale</td>\n",
       "      <td>CA</td>\n",
       "    </tr>\n",
       "    <tr>\n",
       "      <th>...</th>\n",
       "      <td>...</td>\n",
       "      <td>...</td>\n",
       "      <td>...</td>\n",
       "      <td>...</td>\n",
       "    </tr>\n",
       "    <tr>\n",
       "      <th>596</th>\n",
       "      <td>cfd1fa6e8f122e93b1cb02e7b7541749335e7088095f8e...</td>\n",
       "      <td>NaN</td>\n",
       "      <td>Toronto</td>\n",
       "      <td>CA</td>\n",
       "    </tr>\n",
       "    <tr>\n",
       "      <th>597</th>\n",
       "      <td>75e7251298f2d62406dbfe1a11011cffdad90b27704687...</td>\n",
       "      <td>NaN</td>\n",
       "      <td>Richardson</td>\n",
       "      <td>US</td>\n",
       "    </tr>\n",
       "    <tr>\n",
       "      <th>598</th>\n",
       "      <td>40c38939612f59ad418569e94a075935576bff0449c7f8...</td>\n",
       "      <td>FAST_CASUAL</td>\n",
       "      <td>Guelph</td>\n",
       "      <td>CA</td>\n",
       "    </tr>\n",
       "    <tr>\n",
       "      <th>599</th>\n",
       "      <td>2ed5bf26505a6064d09b40bacdb6fccc9665c3de029494...</td>\n",
       "      <td>NaN</td>\n",
       "      <td>Mississauga</td>\n",
       "      <td>CA</td>\n",
       "    </tr>\n",
       "    <tr>\n",
       "      <th>600</th>\n",
       "      <td>5ece4507d7aec26fdcca66082fcc77457f79cea602c1a8...</td>\n",
       "      <td>BAKERY</td>\n",
       "      <td>Ottawa</td>\n",
       "      <td>CA</td>\n",
       "    </tr>\n",
       "  </tbody>\n",
       "</table>\n",
       "<p>601 rows × 4 columns</p>\n",
       "</div>"
      ],
      "text/plain": [
       "                                         venue_xref_id        concept  \\\n",
       "0    ea74268311cfcc47d2b4c38ef08b9dab0117226a9a99a9...      FAST_FOOD   \n",
       "1    e7cec41c46a9706ba1a702b368be5431913b6dc9c9da49...  FAMILY_DINING   \n",
       "2    e63e79791883b0c4ac71d41eaee727932c13d6a4ec8f78...    FAST_CASUAL   \n",
       "3    c100388c9328b30b6bdfbea43f113d367ae9d32b03e84b...            BAR   \n",
       "4    a819ee7f83f27dd3d7f44515e22aca3c26e6704ddd2a9b...  FAMILY_DINING   \n",
       "..                                                 ...            ...   \n",
       "596  cfd1fa6e8f122e93b1cb02e7b7541749335e7088095f8e...            NaN   \n",
       "597  75e7251298f2d62406dbfe1a11011cffdad90b27704687...            NaN   \n",
       "598  40c38939612f59ad418569e94a075935576bff0449c7f8...    FAST_CASUAL   \n",
       "599  2ed5bf26505a6064d09b40bacdb6fccc9665c3de029494...            NaN   \n",
       "600  5ece4507d7aec26fdcca66082fcc77457f79cea602c1a8...         BAKERY   \n",
       "\n",
       "             city country  \n",
       "0     Albuquerque      US  \n",
       "1        Brooklyn      US  \n",
       "2         Windsor      CA  \n",
       "3         Burnaby      CA  \n",
       "4         Tisdale      CA  \n",
       "..            ...     ...  \n",
       "596       Toronto      CA  \n",
       "597    Richardson      US  \n",
       "598        Guelph      CA  \n",
       "599   Mississauga      CA  \n",
       "600        Ottawa      CA  \n",
       "\n",
       "[601 rows x 4 columns]"
      ]
     },
     "execution_count": 78,
     "metadata": {},
     "output_type": "execute_result"
    }
   ],
   "source": [
    "df_venues = df_venues.drop(columns='start_of_day_offset')\n",
    "df_venues"
   ]
  },
  {
   "cell_type": "markdown",
   "metadata": {},
   "source": [
    "## Data Cleaning"
   ]
  },
  {
   "cell_type": "code",
   "execution_count": 79,
   "metadata": {},
   "outputs": [
    {
     "data": {
      "text/html": [
       "<div>\n",
       "<style scoped>\n",
       "    .dataframe tbody tr th:only-of-type {\n",
       "        vertical-align: middle;\n",
       "    }\n",
       "\n",
       "    .dataframe tbody tr th {\n",
       "        vertical-align: top;\n",
       "    }\n",
       "\n",
       "    .dataframe thead th {\n",
       "        text-align: right;\n",
       "    }\n",
       "</style>\n",
       "<table border=\"1\" class=\"dataframe\">\n",
       "  <thead>\n",
       "    <tr style=\"text-align: right;\">\n",
       "      <th></th>\n",
       "      <th>venue_xref_id</th>\n",
       "      <th>concept</th>\n",
       "      <th>city</th>\n",
       "      <th>country</th>\n",
       "    </tr>\n",
       "  </thead>\n",
       "  <tbody>\n",
       "  </tbody>\n",
       "</table>\n",
       "</div>"
      ],
      "text/plain": [
       "Empty DataFrame\n",
       "Columns: [venue_xref_id, concept, city, country]\n",
       "Index: []"
      ]
     },
     "execution_count": 79,
     "metadata": {},
     "output_type": "execute_result"
    }
   ],
   "source": [
    "missing_venues = df_venues[~df_venues['venue_xref_id'].isin(df_bills['venue_xref_id'])]\n",
    "missing_venues\n",
    "\n",
    "# All 'venue_xref_id' in df_venues exist in 'venue_xref_id' column in df_bills"
   ]
  },
  {
   "cell_type": "code",
   "execution_count": 81,
   "metadata": {},
   "outputs": [
    {
     "name": "stdout",
     "output_type": "stream",
     "text": [
      "['FAST_FOOD' 'FAMILY_DINING' 'FAST_CASUAL' 'BAR' 'CAFE' 'SPORTS_CLUB' nan\n",
      " 'FINE_DINING' 'BREWERY' 'POP_UP' 'BAKERY' 'BUFFET' 'HOTEL'\n",
      " 'ENTERTAINMENT_COMPLEX' 'FOOD_TRUCK']\n",
      "concept\n",
      "FINE_DINING     19\n",
      "POP_UP           1\n",
      "NaN            136\n",
      "Name: count, dtype: int64\n"
     ]
    }
   ],
   "source": [
    "print(df_venues['concept'].unique())\n",
    "\n",
    "# We will omit fine_dining restaurants since they don't do promotions\n",
    "# We will omit pop_up restaurants since they don't have long-term data\n",
    "concept_counts = df_venues['concept'].value_counts(dropna=False)\n",
    "filtered_counts = concept_counts.loc[['FINE_DINING', 'POP_UP']]\n",
    "nan_count = df_venues['concept'].isna().sum()\n",
    "filtered_counts.loc['NaN'] = nan_count\n",
    "print(filtered_counts)"
   ]
  },
  {
   "cell_type": "code",
   "execution_count": 91,
   "metadata": {},
   "outputs": [
    {
     "name": "stdout",
     "output_type": "stream",
     "text": [
      "0\n"
     ]
    }
   ],
   "source": [
    "print(df_venues['city'].isna().sum())\n",
    "# No NaN in city column"
   ]
  },
  {
   "cell_type": "code",
   "execution_count": 96,
   "metadata": {},
   "outputs": [
    {
     "name": "stdout",
     "output_type": "stream",
     "text": [
      "Filtered df_venues: (445, 4)\n",
      "Original df_bills: (7121732, 20)\n"
     ]
    }
   ],
   "source": [
    "# Get venue_xref_id for rows where concept is 'FINE_DINING', 'POP_UP', or NaN\n",
    "venues_to_remove = df_venues[df_venues['concept'].isin(['FINE_DINING', 'POP_UP']) | df_venues['concept'].isna()]['venue_xref_id'].unique()\n",
    "# Keep only rows where venue_xref_id is NOT in venues_to_remove\n",
    "df_venues = df_venues[~df_venues['venue_xref_id'].isin(venues_to_remove)]\n",
    "# Remove rows from df_bills that have the filtered venue_xref_id\n",
    "df_bills = df_bills[~df_bills['venue_xref_id'].isin(venues_to_remove)]\n",
    "print(f\"Filtered df_venues: {df_venues.shape}\")\n",
    "print(f\"Original df_bills: {df_bills.shape}\")\n"
   ]
  },
  {
   "cell_type": "markdown",
   "metadata": {},
   "source": [
    "# ML Prediction Model"
   ]
  },
  {
   "cell_type": "code",
   "execution_count": null,
   "metadata": {},
   "outputs": [],
   "source": []
  }
 ],
 "metadata": {
  "kernelspec": {
   "display_name": "Python 3",
   "language": "python",
   "name": "python3"
  },
  "language_info": {
   "codemirror_mode": {
    "name": "ipython",
    "version": 3
   },
   "file_extension": ".py",
   "mimetype": "text/x-python",
   "name": "python",
   "nbconvert_exporter": "python",
   "pygments_lexer": "ipython3",
   "version": "3.9.6"
  }
 },
 "nbformat": 4,
 "nbformat_minor": 2
}
